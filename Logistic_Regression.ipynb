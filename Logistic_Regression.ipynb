{
  "nbformat": 4,
  "nbformat_minor": 0,
  "metadata": {
    "colab": {
      "name": "Logistic Regression ",
      "provenance": [],
      "collapsed_sections": [],
      "include_colab_link": true
    },
    "kernelspec": {
      "display_name": "Python 3",
      "name": "python3"
    }
  },
  "cells": [
    {
      "cell_type": "markdown",
      "metadata": {
        "id": "view-in-github",
        "colab_type": "text"
      },
      "source": [
        "<a href=\"https://colab.research.google.com/github/yuvrajrajput/machine-learning-with-me/blob/main/Logistic_Regression.ipynb\" target=\"_parent\"><img src=\"https://colab.research.google.com/assets/colab-badge.svg\" alt=\"Open In Colab\"/></a>"
      ]
    },
    {
      "cell_type": "code",
      "metadata": {
        "id": "nrDVDG6Tg89S"
      },
      "source": [
        "# This Python 3 environment comes with many helpful analytics libraries installed\n",
        "# It is defined by the kaggle/python Docker image: https://github.com/kaggle/docker-python\n",
        "# For example, here's several helpful packages to load\n",
        "\n",
        "import numpy as np # linear algebra\n",
        "import pandas as pd # data processing, CSV file I/O (e.g. pd.read_csv)\n",
        "from sklearn.linear_model import LogisticRegression, LinearRegression\n",
        "from sklearn.ensemble import RandomForestClassifier\n",
        "from sklearn.model_selection import train_test_split\n",
        "from sklearn.preprocessing import PolynomialFeatures\n",
        "from sklearn.feature_selection import SelectFromModel\n",
        "import matplotlib.pyplot as plt\n",
        "from scipy.special import expit\n",
        "\n",
        "np.random.seed(12)"
      ],
      "execution_count": null,
      "outputs": []
    },
    {
      "cell_type": "markdown",
      "metadata": {
        "id": "whecU2ZG1iQT"
      },
      "source": [
        "Generating Data"
      ]
    },
    {
      "cell_type": "code",
      "metadata": {
        "id": "mWpvNxVNiQjG"
      },
      "source": [
        "X = np.random.random(50)*105/2\n",
        "e = -5*np.random.random(50) #(np.random.random(50)>0.9)*\n",
        "y = (X + e )<20"
      ],
      "execution_count": null,
      "outputs": []
    },
    {
      "cell_type": "code",
      "metadata": {
        "colab": {
          "base_uri": "https://localhost:8080/",
          "height": 555
        },
        "id": "npjy3av9AsF8",
        "outputId": "708fb93a-a5fc-4d19-8bec-8cc21351c9f8"
      },
      "source": [
        "# plot the data\n",
        "plt.figure(1, figsize=(16, 9))\n",
        "plt.clf()\n",
        "plt.scatter(X, y, color='black', zorder=20)"
      ],
      "execution_count": null,
      "outputs": [
        {
          "output_type": "execute_result",
          "data": {
            "text/plain": [
              "<matplotlib.collections.PathCollection at 0x7fc5e0dd5c50>"
            ]
          },
          "metadata": {
            "tags": []
          },
          "execution_count": 4
        },
        {
          "output_type": "display_data",
          "data": {
            "image/png": "[encoded data removed]",
            "text/plain": [
              "<Figure size 1152x648 with 1 Axes>"
            ]
          },
          "metadata": {
            "tags": [],
            "needs_background": "light"
          }
        }
      ]
    },
    {
      "cell_type": "code",
      "metadata": {
        "colab": {
          "base_uri": "https://localhost:8080/",
          "height": 425
        },
        "id": "YvlYR8MbuRhZ",
        "outputId": "ccd97e5a-4c13-4e8b-912d-a61164533009"
      },
      "source": [
        "# Fit the classifier\n",
        "clf = LogisticRegression(C=1e5)\n",
        "X = X.reshape(-1, 1)\n",
        "y = y.reshape(-1, 1)\n",
        "clf.fit(X, y)\n",
        "\n",
        "# and plot the result\n",
        "plt.figure(1, figsize=(6, 5))\n",
        "plt.clf()\n",
        "plt.scatter(X.ravel(), y, color='black', zorder=20)\n",
        "X_test = np.linspace(0, 105/2, 400)\n",
        "\n",
        "pred = expit(X_test * clf.coef_ + clf.intercept_).ravel()\n",
        "plt.plot(X_test, pred, color='red', linewidth=3)\n",
        "\n",
        "ols = LinearRegression()\n",
        "ols.fit(X, y)\n",
        "linpred = (ols.coef_ * X_test + ols.intercept_)[0]\n",
        "plt.plot(X_test, linpred , linewidth=1)\n",
        "#plt.axhline(.5, color='.5')\n",
        "plt.ylabel('y')\n",
        "plt.xlabel('X')\n",
        "plt.ylim(0, 1)\n",
        "plt.legend(('Logistic Regression Model', 'Linear Regression Model'),\n",
        "           loc=\"lower right\", fontsize='small')\n",
        "plt.tight_layout()\n",
        "plt.show()"
      ],
      "execution_count": null,
      "outputs": [
        {
          "output_type": "stream",
          "text": [
            "/usr/local/lib/python3.6/dist-packages/sklearn/utils/validation.py:760: DataConversionWarning: A column-vector y was passed when a 1d array was expected. Please change the shape of y to (n_samples, ), for example using ravel().\n",
            "  y = column_or_1d(y, warn=True)\n"
          ],
          "name": "stderr"
        },
        {
          "output_type": "display_data",
          "data": {
            "image/png": "[encoded data removed]",
            "text/plain": [
              "<Figure size 432x360 with 1 Axes>"
            ]
          },
          "metadata": {
            "tags": [],
            "needs_background": "light"
          }
        }
      ]
    },
    {
      "cell_type": "code",
      "metadata": {
        "colab": {
          "base_uri": "https://localhost:8080/"
        },
        "id": "LwYc-i2DCYFq",
        "outputId": "0c35aa8c-d3a8-43da-d249-f1607e73f5c9"
      },
      "source": [
        "linpred = (ols.coef_ * X + ols.intercept_)[0]\n",
        "pred = expit(X * clf.coef_ + clf.intercept_).ravel()\n",
        "\n",
        "for thr in range(1,10,1):\n",
        "  print('Threshold '+ str(thr/10))\n",
        "  thr_linpred = linpred>(thr/10)\n",
        "  thr_pred = pred>(thr/10)\n",
        "  print('Linear Regression', (y==thr_linpred).mean(), 'Logistic Regression', (y==thr_pred).mean())"
      ],
      "execution_count": null,
      "outputs": [
        {
          "output_type": "stream",
          "text": [
            "Threshold 0.1\n",
            "Linear Regression 0.44 Logistic Regression 0.4976\n",
            "Threshold 0.2\n",
            "Linear Regression 0.44 Logistic Regression 0.5048\n",
            "Threshold 0.3\n",
            "Linear Regression 0.44 Logistic Regression 0.5048\n",
            "Threshold 0.4\n",
            "Linear Regression 0.44 Logistic Regression 0.5072\n",
            "Threshold 0.5\n",
            "Linear Regression 0.44 Logistic Regression 0.5072\n",
            "Threshold 0.6\n",
            "Linear Regression 0.44 Logistic Regression 0.5072\n",
            "Threshold 0.7\n",
            "Linear Regression 0.44 Logistic Regression 0.5096\n",
            "Threshold 0.8\n",
            "Linear Regression 0.44 Logistic Regression 0.512\n",
            "Threshold 0.9\n",
            "Linear Regression 0.44 Logistic Regression 0.5144\n"
          ],
          "name": "stdout"
        }
      ]
    }
  ]
}