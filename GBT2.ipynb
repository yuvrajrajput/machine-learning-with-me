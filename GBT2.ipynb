{
  "nbformat": 4,
  "nbformat_minor": 0,
  "metadata": {
    "colab": {
      "name": "GBT2.ipynb",
      "provenance": [],
      "collapsed_sections": [],
      "include_colab_link": true
    },
    "kernelspec": {
      "name": "python3",
      "display_name": "Python 3"
    }
  },
  "cells": [
    {
      "cell_type": "markdown",
      "metadata": {
        "id": "view-in-github",
        "colab_type": "text"
      },
      "source": [
        "<a href=\"https://colab.research.google.com/github/yuvrajrajput/machine-learning-with-me/blob/main/GBT2.ipynb\" target=\"_parent\"><img src=\"https://colab.research.google.com/assets/colab-badge.svg\" alt=\"Open In Colab\"/></a>"
      ]
    },
    {
      "cell_type": "code",
      "metadata": {
        "id": "e9o7sdZQQ62p"
      },
      "source": [
        "import pandas as pd\n",
        "import numpy as np\n",
        "import sklearn\n",
        "from sklearn.ensemble import RandomForestRegressor\n",
        "from sklearn.model_selection import train_test_split\n",
        "from sklearn.metrics import mean_squared_error\n",
        "import xgboost as xgb\n",
        "from xgboost import XGBClassifier, plot_tree\n",
        "from sklearn.metrics import accuracy_score\n",
        "import matplotlib.pyplot as plt\n",
        "from sklearn.tree import export_graphviz"
      ],
      "execution_count": null,
      "outputs": []
    },
    {
      "cell_type": "code",
      "metadata": {
        "id": "iW61uPErR45z"
      },
      "source": [
        "mnist = pd.read_csv(\"sample_data/mnist_train_small.csv\")\n",
        "x = mnist[mnist.columns.difference([\"6\"])]\n",
        "y = mnist[\"6\"]\n",
        "x_train_val, x_test, y_train_val, y_test = train_test_split(x, y, test_size=0.2)\n",
        "x_train, x_val, y_train, y_val = train_test_split(x_train_val, y_train_val, test_size=0.2)\n"
      ],
      "execution_count": null,
      "outputs": []
    },
    {
      "cell_type": "code",
      "metadata": {
        "id": "sLiPBjlie7MX",
        "colab": {
          "base_uri": "https://localhost:8080/",
          "height": 35
        },
        "outputId": "36b1d36e-d6b9-40f8-b807-c08d73a4d479"
      },
      "source": [
        "model = RandomForestRegressor(50, max_depth=15, max_features=15)\n",
        "model.fit(x_train, y_train)\n",
        "print(model.score(x_val, y_val))"
      ],
      "execution_count": null,
      "outputs": [
        {
          "output_type": "stream",
          "text": [
            "0.8190638901351395\n"
          ],
          "name": "stdout"
        }
      ]
    },
    {
      "cell_type": "code",
      "metadata": {
        "id": "fsG5vBvjTAo7",
        "colab": {
          "base_uri": "https://localhost:8080/",
          "height": 34
        },
        "outputId": "b32febcf-3972-4775-829a-fde13becabe2"
      },
      "source": [
        "model2 = XGBClassifier(objective='multiclass:softmax', learning_rate = 0.1,\n",
        "              max_depth = 1, n_estimators = 330)\n",
        "model2.fit(x_train, y_train)\n",
        "preds = model2.predict(x_test)\n",
        "print(sum(preds==y_test)/len(y_test))"
      ],
      "execution_count": null,
      "outputs": [
        {
          "output_type": "stream",
          "text": [
            "0.88525\n"
          ],
          "name": "stdout"
        }
      ]
    },
    {
      "cell_type": "code",
      "metadata": {
        "id": "FoJbT_rFyGMs"
      },
      "source": [
        "plot_tree(model, num_trees=3)"
      ],
      "execution_count": null,
      "outputs": []
    }
  ]
}